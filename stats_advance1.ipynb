{
 "cells": [
  {
   "cell_type": "markdown",
   "id": "506e42b4",
   "metadata": {},
   "source": [
    "Question1: Define the z-statistic and explain its relationship to the standard normal distribution. How is the\n",
    "z-statistic used in hypothesis testing?"
   ]
  },
  {
   "cell_type": "markdown",
   "id": "d272174a",
   "metadata": {},
   "source": [
    "SOLUTION 1\n",
    "z statistics --A z-statistic, also known as a z-score, is a numerical value that measures how many standard deviations a \n",
    "data point is from the mean of a group of values. \n",
    "\n",
    "RELATIONSHIP BETWEEN Z-STATISTICS AND STANDARD NORMAL DISTRIBUTION\n",
    "A standard normal distribution table, also known as a z-score table, shows the values of the cumulative distribution\n",
    "function of the normal distribution. The empirical rule, or 68-95-99.7 rule, states that 68% of observations lie within\n",
    "one standard deviation of the mean,95% within two standard deviations, and 99.7% within three standard deviations.\n",
    "\n",
    "USE IN HYPOTHESIS TESTING\n",
    " It is used in hypothesis testing to determine if the means of two populations are equal. "
   ]
  },
  {
   "cell_type": "markdown",
   "id": "dbda26d0",
   "metadata": {},
   "source": [
    "Question2 : What is a p-value, and how is it used in hypothesis testing? What does it mean if the p-value is\n",
    "very small (e.g., 0.01)?"
   ]
  },
  {
   "cell_type": "markdown",
   "id": "e01f27b3",
   "metadata": {},
   "source": [
    "SOLUTION 2\n",
    "A p-value measures the probability of obtaining the observed results, assuming that the null hypothesis is true.in other \n",
    "wordsA p-value, or probability value, is a statistical measurement that describes how likely it is that your data could\n",
    "have occurred under the null hypothesis of a statistical test. A smaller p-value means that the observed data is more \n",
    "likely to be statistically significant and that you should reject the null hypothesis. A p-value of 0.05 or lower is \n",
    "generally considered statistically significant. A p-value less than 0.01 is considered highly statistically significant. "
   ]
  },
  {
   "cell_type": "markdown",
   "id": "0cc35be2",
   "metadata": {},
   "source": [
    "Question3: Compare and contrast the binomial and Bernoulli distributions. "
   ]
  },
  {
   "cell_type": "markdown",
   "id": "88768ed7",
   "metadata": {},
   "source": [
    "SOLUTION 3\n",
    "The main differences between the Bernoulli and binomial distributions are:\n",
    "Number of trials\n",
    "A Bernoulli distribution models a single trial, while a binomial distribution models multiple trials. \n",
    "\n",
    "Number of outcomes\n",
    "A Bernoulli distribution has two possible outcomes, while a binomial distribution can have multiple outcomes. \n",
    "\n",
    "Parameters\n",
    "A Bernoulli distribution requires one parameter, while a binomial distribution requires two. \n",
    "\n",
    "Use cases\n",
    "A Bernoulli distribution is used when you need the outcome of an event once, while a binomial distribution is used when\n",
    "you need the outcome multiple times. \n",
    "You can think of a binomial distribution as a sum of multiple Bernoulli distributions. For example, if you flip a coin\n",
    "with a 25% probability of heads, a single toss has a Bernoulli distribution. If you flip the coin three times and record \n",
    "the number of heads, this is a binomial distribution."
   ]
  },
  {
   "cell_type": "markdown",
   "id": "345571bc",
   "metadata": {},
   "source": [
    "Question 4: Under what conditions is the binomial distribution used, and how does it relate to the Bernoulli distribution?\n"
   ]
  },
  {
   "cell_type": "markdown",
   "id": "76d89bdc",
   "metadata": {},
   "source": [
    "SOLUTION 4\n",
    "A Bernoulli distribution is used when you need the outcome of an event once, while a binomial distribution is used when\n",
    "you need the outcome multiple times. \n",
    "You can think of a binomial distribution as a sum of multiple Bernoulli distributions. For example, if you flip a coin\n",
    "with a 25% probability of heads, a single toss has a Bernoulli distribution. If you flip the coin three times and record \n",
    "the number of heads, this is a binomial distribution."
   ]
  },
  {
   "cell_type": "markdown",
   "id": "03c246df",
   "metadata": {},
   "source": [
    "Question5: What are the key properties of the Poisson distribution, and when is it appropriate to use this\n",
    "distribution?"
   ]
  },
  {
   "cell_type": "markdown",
   "id": "c077a777",
   "metadata": {},
   "source": [
    "SOLUTION 5\n",
    "The Poisson distribution is a discrete probability distribution that models events with a large number of rare and independent possible outcomes. It's appropriate to use the Poisson distribution when the following conditions are met:\n",
    "\n",
    "Events are independent: The probability of one event occurring doesn't affect the probability of another event occurring in the same time period.\n",
    "\n",
    "Rate of occurrence is constant: The rate of events doesn't change over time.\n",
    "\n",
    "Events can occur any number of times: An event can occur any number of times during a given time period. \n",
    "\n",
    "Here are some other properties of the Poisson distribution:\n",
    "The average number of successes in a given time period is known.  \n",
    "The mean and variance are equal to λ. \n",
    "The standard deviation is equal to the square root of the mean. \n",
    "If the mean is large, the Poisson distribution is approximately a normal distribution. "
   ]
  },
  {
   "cell_type": "markdown",
   "id": "77d6393a",
   "metadata": {},
   "source": [
    "Question6: Define the terms \"probability distribution\" and \"probability density function\" (PDF). How does a\n",
    "PDF differ from a probability mass function (PMF)?"
   ]
  },
  {
   "cell_type": "markdown",
   "id": "29bc1afa",
   "metadata": {},
   "source": [
    "SOLUTION 6\n",
    "Probability distribution\n",
    "Describes the probability of a random variable. A probability distribution can be described by a PDF, a PMF, \n",
    "or a cumulative distribution function. \n",
    "\n",
    "Probability density function (PDF)\n",
    "Used for continuous random variables, a PDF describes the probability that a variable will fall within a specific range \n",
    "of values. The area under the PDF curve between the lowest and highest values of a range gives the probability that the \n",
    "variable will fall within that range. \n",
    "\n",
    "Probability mass function (PMF)\n",
    "Used for discrete random variables, a PMF describes the probability that a variable will take on an exact value. \n",
    "A PMF is also known as a discrete probability density function. "
   ]
  },
  {
   "cell_type": "markdown",
   "id": "ec50db5b",
   "metadata": {},
   "source": [
    "Question7: Explain the Central Limit Theorem (CLT) with example."
   ]
  },
  {
   "cell_type": "markdown",
   "id": "5871c5fe",
   "metadata": {},
   "source": [
    "SOLUTION 7\n",
    "The Central Limit Theorem (CLT) is a statistical theory that states that if you take large enough samples from a population,\n",
    "the means of those samples will be normally distributed, even if the population itself isn't normally distributed. \n",
    "\n",
    "Here are some examples of the CLT: \n",
    "\n",
    "Estimating the proportion of defective products\n",
    "A factory manager can randomly select a sample of products and estimate the proportion of defective products in the entire facility. \n",
    "\n",
    "Analyzing stock returns\n",
    "An investor can analyze a random sample of stocks to estimate the return for a stock index. \n"
   ]
  },
  {
   "cell_type": "markdown",
   "id": "8b507179",
   "metadata": {},
   "source": [
    "Question8: Compare z-scores and t-scores. When should you use a z-score, and when should a t-score be \n",
    "applied instead?"
   ]
  },
  {
   "cell_type": "markdown",
   "id": "22f52c8f",
   "metadata": {},
   "source": [
    "The main difference between z-scores and t-scores is when to use them:\n",
    "\n",
    "Z-scores\n",
    "Use when the sample size is 30 or more, and the population standard deviation is known. \n",
    "Z-scores are based on the population standard deviation. \n",
    "\n",
    "T-scores\n",
    "Use when the sample size is less than 30, or the population standard deviation is unknown. \n",
    "T-scores are based on the sample standard deviation."
   ]
  },
  {
   "cell_type": "markdown",
   "id": "ff336d8b",
   "metadata": {},
   "source": [
    "Question9: Given a sample mean of 105, a population mean of 100, a standard deviation of 15, and a sample\n",
    "size of 25, calculate the z-score and p-value. Based on a significance level of 0.05, do you reject or fail to\n",
    "reject the null hypothesis?\n",
    "\n",
    " Task: Write Python code to calculate the z-score and p-value for the given data.\n",
    "\n",
    "Objective: Apply the formula for the z-score and interpret the p-value for hypothesis testing."
   ]
  },
  {
   "cell_type": "code",
   "execution_count": 1,
   "id": "bd1bbd82",
   "metadata": {},
   "outputs": [
    {
     "data": {
      "text/plain": [
       "1.6666666666666667"
      ]
     },
     "execution_count": 1,
     "metadata": {},
     "output_type": "execute_result"
    }
   ],
   "source": [
    "#SOLUTION 9\n",
    "import math\n",
    "sample_mean = 105\n",
    "population_mean = 100\n",
    "population_std = 15\n",
    "sample_size = 25\n",
    "z_score = (sample_mean-population_mean)/(population_std/math.sqrt(sample_size))\n",
    "z_score"
   ]
  },
  {
   "cell_type": "code",
   "execution_count": 2,
   "id": "fca84508",
   "metadata": {},
   "outputs": [
    {
     "name": "stdout",
     "output_type": "stream",
     "text": [
      "p_value is  0.0477903522728147\n"
     ]
    }
   ],
   "source": [
    "import scipy.stats\n",
    "# finding p-value\n",
    "p_value = scipy.stats.norm.sf(abs(z_score))\n",
    "print('p_value is ',p_value)"
   ]
  },
  {
   "cell_type": "markdown",
   "id": "d339188f",
   "metadata": {},
   "source": [
    "as p value is less than 0.05 we reject null hypothesis"
   ]
  },
  {
   "cell_type": "markdown",
   "id": "6fd5fd3c",
   "metadata": {},
   "source": [
    "Question10: Simulate a binomial distribution with 10 trials and a probability of success of 0.6 using Python. Generate 1,000 samples and plot the distribution. What is the expected mean and variance?\n",
    "\n",
    "Task: Use Python to generate the data, plot the distribution, and calculate the mean and variance.\n",
    "\n",
    "Objective: Understand the properties of a binomial distribution and verify them through simulation."
   ]
  },
  {
   "cell_type": "code",
   "execution_count": 5,
   "id": "6002697c",
   "metadata": {},
   "outputs": [
    {
     "data": {
      "text/plain": [
       "(array([0.   , 0.001, 0.009, 0.041, 0.128, 0.221, 0.236, 0.206, 0.114,\n",
       "        0.039, 0.005]),\n",
       " array([ 0,  1,  2,  3,  4,  5,  6,  7,  8,  9, 10, 11]),\n",
       " <BarContainer object of 11 artists>)"
      ]
     },
     "execution_count": 5,
     "metadata": {},
     "output_type": "execute_result"
    },
    {
     "data": {
      "image/png": "[encoded data removed]",
      "text/plain": [
       "<Figure size 432x288 with 1 Axes>"
      ]
     },
     "metadata": {
      "needs_background": "light"
     },
     "output_type": "display_data"
    }
   ],
   "source": [
    "import matplotlib.pyplot as plt\n",
    "import numpy as np\n",
    "from scipy.stats import binom\n",
    "n = 10\n",
    "p = 0.6\n",
    "samples = 1000\n",
    "data = np.random.binomial(n,p,samples)\n",
    "plt.hist(data,bins = range(n+2),density = True,edgecolor = \"black\",label = \"Simulated Data\")"
   ]
  },
  {
   "cell_type": "code",
   "execution_count": null,
   "id": "1ecbbf4f",
   "metadata": {},
   "outputs": [],
   "source": []
  },
  {
   "cell_type": "code",
   "execution_count": null,
   "id": "873647d5",
   "metadata": {},
   "outputs": [],
   "source": []
  }
 ],
 "metadata": {
  "kernelspec": {
   "display_name": "Python 3",
   "language": "python",
   "name": "python3"
  },
  "language_info": {
   "codemirror_mode": {
    "name": "ipython",
    "version": 3
   },
   "file_extension": ".py",
   "mimetype": "text/x-python",
   "name": "python",
   "nbconvert_exporter": "python",
   "pygments_lexer": "ipython3",
   "version": "3.6.4"
  }
 },
 "nbformat": 4,
 "nbformat_minor": 5
}
